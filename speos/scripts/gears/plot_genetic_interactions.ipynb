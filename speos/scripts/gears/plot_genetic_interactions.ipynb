{
 "cells": [
  {
   "cell_type": "markdown",
   "metadata": {},
   "source": [
    "# New Big Dataframe"
   ]
  },
  {
   "cell_type": "code",
   "execution_count": null,
   "metadata": {},
   "outputs": [],
   "source": [
    "import pandas as pd\n",
    "import os"
   ]
  },
  {
   "cell_type": "code",
   "execution_count": null,
   "metadata": {},
   "outputs": [],
   "source": [
    "\n",
    "dfs = pd.read_csv(\"../speos/Simulations_GEARS_UC.tsv\", sep=\"\\t\", header=0)"
   ]
  },
  {
   "cell_type": "code",
   "execution_count": null,
   "metadata": {},
   "outputs": [],
   "source": [
    "dfs.head()"
   ]
  },
  {
   "cell_type": "code",
   "execution_count": null,
   "metadata": {},
   "outputs": [],
   "source": [
    "len(dfs)"
   ]
  },
  {
   "cell_type": "code",
   "execution_count": null,
   "metadata": {},
   "outputs": [],
   "source": [
    "import json\n",
    "individual_genes = set()\n",
    "for combination in dfs[\"Combination\"]:\n",
    "    individual_genes.update(set(json.loads(combination.replace('\\'', '\"'))))\n",
    "\n",
    "len(individual_genes)\n",
    "    "
   ]
  },
  {
   "cell_type": "code",
   "execution_count": null,
   "metadata": {},
   "outputs": [],
   "source": [
    "import seaborn as sns\n",
    "import numpy as np\n",
    "import matplotlib.pyplot as plt\n",
    "\n",
    "fig, ax = plt.subplots(figsize=(8, 5))\n",
    "\n",
    "myorder = dfs.groupby(by=[\"Group\"])[\"mag\"].median().sort_values().iloc[::-1].index\n",
    "\n",
    "ax = sns.boxplot(data=dfs, x=\"Group\", y=\"mag\", order=myorder, fliersize=3, ax=ax)\n",
    "\n",
    "for l in ax.lines:\n",
    "     if l.get_marker() != '':\n",
    "          xs = l.get_xdata()\n",
    "          xs += np.random.uniform(-0.2, 0.2, len(xs))\n",
    "          l.set_xdata(xs)\n",
    "\n",
    "for i, text in enumerate([\"n={}\".format(dfs.value_counts(subset=\"Group\")[labels.get_text()]) for labels in ax.get_xticklabels()]):\n",
    "     ax.text(i, 0.25, text, ha=\"center\")\n",
    "ax.hlines((1.0, 1.15), -0.5, 7, ls=\":\", color=\"lightgray\", zorder = -1)\n",
    "\n",
    "#ax.text(6.95, y=1.08, s=\"Epistasis\", ha=\"right\", va=\"center\")\n",
    "ax.text(6.95, y=1.2, s=\"Synergy\",  ha=\"right\", va=\"bottom\")\n",
    "ax.text(6.95, y=0.95, s=\"Suppression\", ha=\"right\", va=\"top\")\n",
    "ax.set_ylim(0.2, 2.4)\n",
    "ax.set_xlim(-0.5, 7)\n",
    "\n",
    "\n"
   ]
  },
  {
   "cell_type": "code",
   "execution_count": null,
   "metadata": {},
   "outputs": [],
   "source": [
    "import matplotlib.pyplot as plt\n",
    "import seaborn as sns\n",
    "fig, ax = plt.subplots(figsize=(5,3))\n",
    "ax = sns.kdeplot(dfs, x=\"mag\")\n",
    "\n",
    "ax.set_xlim(0.35)\n",
    "ax.set_xlabel(\"Magnitude\")\n",
    "ax.vlines(x=1, ymin=0, ymax=1.5, linestyles=\"--\", color=\"gray\")\n",
    "ax.text(x=1 * 0.97, ha=\"right\", y=1.45, va=\"top\", s=\"Suppression\\nThreshold\")\n",
    "plt.tight_layout()\n",
    "#plt.savefig(\"allmag.pdf\")"
   ]
  },
  {
   "cell_type": "code",
   "execution_count": null,
   "metadata": {},
   "outputs": [],
   "source": [
    "\n",
    "fig, ax = plt.subplots(figsize=(5,3))\n",
    "ax = sns.kdeplot(dfs, x=\"mag\")\n",
    "\n",
    "dfs.sort_values(\"mag\").iloc[500, :][\"mag\"]\n",
    "ax.vlines(x=dfs.sort_values(\"mag\").iloc[100, :][\"mag\"], ymin=0, ymax=0.15, color=\"orange\")\n",
    "ax.text(x=dfs.sort_values(\"mag\").iloc[100, :][\"mag\"] * 0.99, ha=\"right\", y=0.15, va=\"top\", s=\"Top 100\\nSuppressions\")\n",
    "ax.vlines(x=dfs.sort_values(\"mag\").iloc[500, :][\"mag\"], ymin=0, ymax=0.25, color=\"green\")\n",
    "ax.text(x=dfs.sort_values(\"mag\").iloc[500, :][\"mag\"] * 0.99, ha=\"right\", y=0.25, va=\"top\", s=\"Top 500\\nSuppressions\")\n",
    "ax.vlines(x=1, ymin=0, ymax=0.4, linestyles=\"--\", color=\"gray\")\n",
    "ax.text(x=1 * 0.99, ha=\"right\", y=0.4, va=\"top\", s=\"Suppression Threshold\")\n",
    "ax.set_xlim((0.35, 1.2))\n",
    "ax.set_ylim((0, 0.6))\n",
    "ax.set_xlabel(\"Magnitude\")\n",
    "plt.tight_layout()\n",
    "plt.savefig(\"topmag.pdf\")"
   ]
  },
  {
   "cell_type": "code",
   "execution_count": null,
   "metadata": {},
   "outputs": [],
   "source": [
    "fig, ax = plt.subplots(figsize=(5,3))\n",
    "ax = sns.kdeplot(dfs, x=\"corr_fit\")\n",
    "\n",
    "dfs.sort_values(\"corr_fit\").iloc[500, :][\"corr_fit\"]\n",
    "ax.vlines(x=dfs.sort_values(\"corr_fit\").iloc[100, :][\"corr_fit\"], ymin=0, ymax=0.15, color=\"orange\")\n",
    "ax.text(x=dfs.sort_values(\"corr_fit\").iloc[100, :][\"corr_fit\"] * 0.99, ha=\"right\", y=0.15, va=\"top\", s=\"Top 100\\nNeomorphisms\")\n",
    "ax.vlines(x=dfs.sort_values(\"corr_fit\").iloc[500, :][\"corr_fit\"], ymin=0, ymax=0.25, color=\"green\")\n",
    "ax.text(x=dfs.sort_values(\"corr_fit\").iloc[500, :][\"corr_fit\"] * 0.99, ha=\"right\", y=0.25, va=\"top\", s=\"Top 500\\nNeomorphisms\")\n",
    "ax.vlines(x=0.88, ymin=0, ymax=0.6, linestyles=\"--\", color=\"gray\")\n",
    "ax.set_xlim((0.2, 0.9))\n",
    "ax.set_ylim((0, 0.6))\n",
    "ax.set_xlabel(\"Model Fit\")\n",
    "plt.tight_layout()\n",
    "plt.savefig(\"topfit.pdf\")"
   ]
  },
  {
   "cell_type": "code",
   "execution_count": null,
   "metadata": {},
   "outputs": [],
   "source": [
    "fig, ax = plt.subplots(figsize=(5,3))\n",
    "ax = sns.kdeplot(dfs, x=\"corr_fit\")\n",
    "ax.set_xlabel(\"Model Fit\")\n",
    "ax.vlines(x=0.88, ymin=0, ymax=20, linestyles=\"--\", color=\"gray\")\n",
    "ax.text(x=0.88 * 0.99, ha=\"right\", y=20, va=\"top\", s=\"Neomorphism Threshold\")\n",
    "ax.set_xlim(0.2)\n",
    "plt.tight_layout()\n",
    "plt.savefig(\"allfit.pdf\")"
   ]
  },
  {
   "cell_type": "code",
   "execution_count": null,
   "metadata": {},
   "outputs": [],
   "source": [
    "dfs.sort_values(by=\"mag\").iloc[:100, :].value_counts(\"Group\")"
   ]
  },
  {
   "cell_type": "code",
   "execution_count": null,
   "metadata": {},
   "outputs": [],
   "source": [
    "from scipy.stats import chisquare\n",
    "\n",
    "counts = dfs.sort_values(by=\"mag\").iloc[:100, :].value_counts(\"Group\").sort_index()\n",
    "try:\n",
    "    del counts[\"HSPxHSP\"]\n",
    "except KeyError:\n",
    "    pass\n",
    "\n",
    "counts.sort_index()\n",
    "\n",
    "expected = dfs.value_counts(\"Group\")\n",
    "\n",
    "del expected[\"HSPxHSP\"]\n",
    "\n",
    "expected = expected / expected.sum() \n",
    "\n",
    "chisquare(counts, expected.sort_index() * counts.sum())"
   ]
  },
  {
   "cell_type": "code",
   "execution_count": null,
   "metadata": {},
   "outputs": [],
   "source": [
    "data = pd.DataFrame({\"Counts\": counts.tolist() + (expected.sort_index() * counts.sum()).tolist(),\n",
    "                     \"Category\": counts.index.tolist() + expected.sort_index().index.tolist(),\n",
    "                     \"Group\":  [\"Observed\"] * len(counts) + [\"Expected\"] * len(expected)})\n",
    "\n",
    "myorder = data[data[\"Group\"] == \"Observed\"].groupby(by=[\"Category\"])[\"Counts\"].max().sort_values().iloc[::-1].index\n",
    "\n",
    "g = sns.catplot(\n",
    "    data=data, kind=\"bar\",\n",
    "    x=\"Category\", y=\"Counts\", hue=\"Group\", order=myorder\n",
    ")"
   ]
  },
  {
   "cell_type": "code",
   "execution_count": null,
   "metadata": {},
   "outputs": [],
   "source": [
    "import matplotlib.pyplot as plt\n",
    "data = pd.DataFrame({\"Counts\": counts - (expected.sort_index() * counts.sum())},\n",
    "                    index=counts.index.tolist())\n",
    "data = data.transpose()\n",
    "\n",
    "myorder = [\"CorexCore\", \"HSPxCore\", \"CorexPeri\", \"HSPxPeri\", \"PerixPeri\"]\n",
    "\n",
    "data = data[myorder]\n",
    "fig, ax = plt.subplots(figsize=(6, 3))\n",
    "ax.bar(x=range(len(data.columns)), height=data.loc[\"Counts\", :], color=\"orange\")\n",
    "ax.set_ylabel(\"$\\Delta Counts$\\n(Observed - Expected)\")\n",
    "ax.set_xlabel(\"Co-Perturbation Group\")\n",
    "ax.set_xticks(range(len(data.columns)))\n",
    "ax.set_xticklabels(data.columns)\n",
    "ax.hlines(xmin=-0.5, xmax =4.5, y=0,  color=\"black\")\n",
    "ax.set_xlim((-0.5, 4.5))\n",
    "plt.tight_layout()\n",
    "#plt.savefig(\"100mag.pdf\")"
   ]
  },
  {
   "cell_type": "code",
   "execution_count": null,
   "metadata": {},
   "outputs": [],
   "source": [
    "from scipy.stats import chisquare\n",
    "\n",
    "counts = dfs.sort_values(by=\"mag\").iloc[:500, :].value_counts(\"Group\").sort_index()\n",
    "try:\n",
    "    del counts[\"HSPxHSP\"]\n",
    "except KeyError:\n",
    "    pass\n",
    "\n",
    "counts.sort_index()\n",
    "\n",
    "expected = dfs.value_counts(\"Group\")\n",
    "\n",
    "del expected[\"HSPxHSP\"]\n",
    "\n",
    "expected = expected / expected.sum() \n",
    "\n",
    "chisquare(counts, expected.sort_index() * counts.sum())"
   ]
  },
  {
   "cell_type": "code",
   "execution_count": null,
   "metadata": {},
   "outputs": [],
   "source": [
    "counts"
   ]
  },
  {
   "cell_type": "code",
   "execution_count": null,
   "metadata": {},
   "outputs": [],
   "source": [
    "expected.sort_index() * counts.sum()"
   ]
  },
  {
   "cell_type": "code",
   "execution_count": null,
   "metadata": {},
   "outputs": [],
   "source": [
    "import matplotlib.pyplot as plt\n",
    "data = pd.DataFrame({\"Counts\": counts - (expected.sort_index() * counts.sum())},\n",
    "                    index=counts.index.tolist())\n",
    "data = data.transpose()\n",
    "\n",
    "myorder = [\"CorexCore\", \"HSPxCore\", \"CorexPeri\", \"HSPxPeri\", \"PerixPeri\"]\n",
    "\n",
    "data = data[myorder]\n",
    "fig, ax = plt.subplots(figsize=(6, 3))\n",
    "ax.bar(x=range(len(data.columns)), height=data.loc[\"Counts\", :], color=\"green\"\n",
    ")\n",
    "ax.set_ylabel(\"$\\Delta Counts$\\n(Observed - Expected)\")\n",
    "ax.set_xlabel(\"Co-Perturbation Group\")\n",
    "ax.set_xticks(range(len(data.columns)))\n",
    "ax.set_xticklabels(data.columns)\n",
    "ax.hlines(xmin=-0.5, xmax =4.5, y=0,  color=\"black\")\n",
    "ax.set_xlim((-0.5, 4.5))\n",
    "plt.tight_layout()\n",
    "plt.savefig(\"500mag.pdf\")"
   ]
  },
  {
   "cell_type": "code",
   "execution_count": null,
   "metadata": {},
   "outputs": [],
   "source": [
    "import seaborn as sns\n",
    "import numpy as np\n",
    "import matplotlib.pyplot as plt\n",
    "\n",
    "fig, ax = plt.subplots(figsize=(8, 5))\n",
    "\n",
    "myorder = dfs.groupby(by=[\"Group\"])[\"mag\"].median().sort_values().iloc[::-1].index\n",
    "\n",
    "ax = sns.boxplot(data=dfs, x=\"Group\", y=\"corr_fit\", order=myorder, fliersize=3, ax=ax)\n",
    "\n",
    "for l in ax.lines:\n",
    "     if l.get_marker() != '':\n",
    "          xs = l.get_xdata()\n",
    "          xs += np.random.uniform(-0.2, 0.2, len(xs))\n",
    "          l.set_xdata(xs)\n",
    "\n",
    "for i, text in enumerate([\"n={}\".format(dfs.value_counts(subset=\"Group\")[labels.get_text()]) for labels in ax.get_xticklabels()]):\n",
    "     ax.text(i, 0.13, text, ha=\"center\")\n",
    "ax.hlines(0.88 , -0.5, 7, ls=\":\", color=\"lightgray\", zorder = -1)\n",
    "\n",
    "ax.text(6.95, y=0.85, s=\"Neomorphism\", ha=\"right\", va=\"center\")\n",
    "#ax.text(6.95, y=1.2, s=\"Synergy\",  ha=\"right\", va=\"bottom\")\n",
    "#ax.text(6.95, y=0.95, s=\"Suppression\", ha=\"right\", va=\"top\")\n",
    "ax.set_ylim(0.1, 1)\n",
    "ax.set_xlim(-0.5, 7)\n"
   ]
  },
  {
   "cell_type": "code",
   "execution_count": null,
   "metadata": {},
   "outputs": [],
   "source": [
    "(dfs[dfs[\"corr_fit\"] < 0.88].value_counts(\"Group\") / dfs.value_counts(\"Group\")).sort_values()"
   ]
  },
  {
   "cell_type": "code",
   "execution_count": null,
   "metadata": {},
   "outputs": [],
   "source": [
    "dfs.sort_values(by=\"corr_fit\").iloc[:100, :].value_counts(\"Group\")"
   ]
  },
  {
   "cell_type": "code",
   "execution_count": null,
   "metadata": {},
   "outputs": [],
   "source": [
    "from scipy.stats import chisquare\n",
    "\n",
    "counts = dfs.sort_values(by=\"corr_fit\").iloc[:500, :].value_counts(\"Group\").sort_index()\n",
    "\n",
    "try:\n",
    "    del counts[\"HSPxHSP\"]\n",
    "except KeyError:\n",
    "    pass\n",
    "\n",
    "expected = dfs.value_counts(\"Group\")\n",
    "\n",
    "del expected[\"HSPxHSP\"]\n",
    "\n",
    "expected = expected / expected.sum() \n",
    "\n",
    "chisquare(counts, expected.sort_index() * counts.sum())"
   ]
  },
  {
   "cell_type": "code",
   "execution_count": null,
   "metadata": {},
   "outputs": [],
   "source": [
    "counts"
   ]
  },
  {
   "cell_type": "code",
   "execution_count": null,
   "metadata": {},
   "outputs": [],
   "source": [
    "expected.sort_index() * counts.sum()"
   ]
  },
  {
   "cell_type": "code",
   "execution_count": null,
   "metadata": {},
   "outputs": [],
   "source": [
    "data = pd.DataFrame({\"Counts\": counts.tolist() + (expected.sort_index() * counts.sum()).tolist(),\n",
    "                     \"Category\": counts.index.tolist() + expected.sort_index().index.tolist(),\n",
    "                     \"Group\": [\"Observed\"] * len(counts) + [\"Expected\"] * len(expected)})\n",
    "\n",
    "myorder = data[data[\"Group\"] == \"Observed\"].groupby(by=[\"Category\"])[\"Counts\"].max().sort_values().iloc[::-1].index\n",
    "\n",
    "g = sns.catplot(\n",
    "    data=data, kind=\"bar\",\n",
    "    x=\"Category\", y=\"Counts\", hue=\"Group\", order=myorder\n",
    ")"
   ]
  },
  {
   "cell_type": "code",
   "execution_count": null,
   "metadata": {},
   "outputs": [],
   "source": [
    "import matplotlib.pyplot as plt\n",
    "data = pd.DataFrame({\"Counts\": counts - (expected.sort_index() * counts.sum())},\n",
    "                    index=counts.index.tolist())\n",
    "data = data.transpose()\n",
    "\n",
    "myorder = [\"CorexCore\", \"HSPxCore\", \"CorexPeri\", \"HSPxPeri\", \"PerixPeri\"]\n",
    "\n",
    "data = data[myorder]\n",
    "fig, ax = plt.subplots(figsize=(6, 3))\n",
    "ax.bar(x=range(len(data.columns)), height=data.loc[\"Counts\", :], color=\"orange\"\n",
    ")\n",
    "ax.set_ylabel(\"$\\Delta Counts$ \\n (Observed - Expected)\")\n",
    "ax.set_xlabel(\"Co-Perturbation Group\")\n",
    "ax.set_xticks(range(len(data.columns)))\n",
    "ax.set_xticklabels(data.columns)\n",
    "ax.hlines(xmin=-0.5, xmax =4.5, y=0,  color=\"black\")\n",
    "ax.set_xlim((-0.5, 4.5))\n",
    "plt.tight_layout()\n",
    "plt.savefig(\"100fit.pdf\")"
   ]
  },
  {
   "cell_type": "code",
   "execution_count": null,
   "metadata": {},
   "outputs": [],
   "source": [
    "dfs.sort_values(by=\"corr_fit\").iloc[:100, :] "
   ]
  },
  {
   "cell_type": "code",
   "execution_count": null,
   "metadata": {},
   "outputs": [],
   "source": [
    "from scipy.stats import chisquare\n",
    "\n",
    "counts = dfs.sort_values(by=\"corr_fit\").iloc[:500, :].value_counts(\"Group\").sort_index()\n",
    "\n",
    "try:\n",
    "    del counts[\"HSPxHSP\"]\n",
    "except KeyError:\n",
    "    pass\n",
    "\n",
    "expected = dfs.value_counts(\"Group\")\n",
    "\n",
    "del expected[\"HSPxHSP\"]\n",
    "\n",
    "expected = expected / expected.sum() \n",
    "\n",
    "chisquare(counts, expected.sort_index() * counts.sum())"
   ]
  },
  {
   "cell_type": "code",
   "execution_count": null,
   "metadata": {},
   "outputs": [],
   "source": [
    "data = pd.DataFrame({\"Counts\": counts.tolist() + (expected.sort_index() * counts.sum()).tolist(),\n",
    "                     \"Category\": counts.index.tolist() + expected.sort_index().index.tolist(),\n",
    "                     \"Group\": [\"Observed\"] * len(counts) + [\"Expected\"] * len(expected)})\n",
    "\n",
    "myorder = data[data[\"Group\"] == \"Observed\"].groupby(by=[\"Category\"])[\"Counts\"].max().sort_values().iloc[::-1].index\n",
    "\n",
    "g = sns.catplot(\n",
    "    data=data, kind=\"bar\",\n",
    "    x=\"Category\", y=\"Counts\", hue=\"Group\", order=myorder\n",
    ")"
   ]
  },
  {
   "cell_type": "code",
   "execution_count": null,
   "metadata": {},
   "outputs": [],
   "source": [
    "import matplotlib.pyplot as plt\n",
    "data = pd.DataFrame({\"Counts\": counts - (expected.sort_index() * counts.sum())},\n",
    "                    index=counts.index.tolist())\n",
    "data = data.transpose()\n",
    "\n",
    "myorder = [\"CorexCore\", \"HSPxCore\", \"CorexPeri\", \"HSPxPeri\", \"PerixPeri\"]\n",
    "\n",
    "data = data[myorder]\n",
    "fig, ax = plt.subplots(figsize=(6,3))\n",
    "ax.bar(x=range(len(data.columns)), height=data.loc[\"Counts\", :], color=\"green\"\n",
    ")\n",
    "ax.set_ylabel(\"$\\Delta Counts$ \\n(Observed - Expected)\")\n",
    "ax.set_xlabel(\"Co-Perturbation Group\")\n",
    "ax.set_xticks(range(len(data.columns)))\n",
    "ax.set_xticklabels(data.columns)\n",
    "ax.hlines(xmin=-0.5, xmax =4.5, y=0,  color=\"black\")\n",
    "ax.set_xlim((-0.5, 4.5))\n",
    "plt.tight_layout()\n",
    "plt.savefig(\"500fit.pdf\")"
   ]
  },
  {
   "cell_type": "code",
   "execution_count": null,
   "metadata": {},
   "outputs": [],
   "source": [
    "(dfs[dfs[\"corr_fit\"] < 0.88].value_counts(\"Group\") / len(dfs[dfs[\"corr_fit\"] < 0.88])).sort_index() * 100"
   ]
  },
  {
   "cell_type": "code",
   "execution_count": null,
   "metadata": {},
   "outputs": [],
   "source": [
    "import seaborn as sns\n",
    "import numpy as np\n",
    "import matplotlib.pyplot as plt\n",
    "\n",
    "fig, ax = plt.subplots(figsize=(8, 5))\n",
    "\n",
    "myorder = dfs.groupby(by=[\"Group\"])[\"mag\"].median().sort_values().iloc[::-1].index\n",
    "\n",
    "ax = sns.boxplot(data=dfs, x=\"Group\", y=\"eq_contr\", order=myorder, fliersize=3, ax=ax)\n",
    "\n",
    "for l in ax.lines:\n",
    "     if l.get_marker() != '':\n",
    "          xs = l.get_xdata()\n",
    "          xs += np.random.uniform(-0.2, 0.2, len(xs))\n",
    "          l.set_xdata(xs)\n",
    "\n",
    "for i, text in enumerate([\"n={}\".format(dfs.value_counts(subset=\"Group\")[labels.get_text()]) for labels in ax.get_xticklabels()]):\n",
    "     ax.text(i, 0.13, text, ha=\"center\")\n",
    "#ax.hlines(0.88 , -0.5, 7, ls=\":\", color=\"lightgray\", zorder = -1)\n",
    "\n",
    "#ax.text(6.95, y=0.85, s=\"Neomorphism\", ha=\"right\", va=\"center\")\n",
    "#ax.text(6.95, y=1.2, s=\"Synergy\",  ha=\"right\", va=\"bottom\")\n",
    "#ax.text(6.95, y=0.95, s=\"Suppression\", ha=\"right\", va=\"top\")\n",
    "ax.set_ylim(0.1, 1.1)\n",
    "ax.set_xlim(-0.5, 7)"
   ]
  }
 ],
 "metadata": {
  "language_info": {
   "name": "python"
  }
 },
 "nbformat": 4,
 "nbformat_minor": 2
}
