{
 "cells": [
  {
   "cell_type": "code",
   "execution_count": null,
   "metadata": {},
   "outputs": [],
   "source": [
    "from speos.utils.config import Config\n",
    "from speos.preprocessing.handler import InputHandler\n",
    "import os\n",
    "os.chdir(\"..\")\n"
   ]
  },
  {
   "cell_type": "code",
   "execution_count": null,
   "metadata": {},
   "outputs": [],
   "source": [
    "import json\n",
    "from extensions.preprocessing import preprocess_labels\n",
    "import pandas as pd\n",
    "def get_coregenes(trait: str, background):\n",
    "    trait2name = {\"uc\": \"uc\",\n",
    "                \"cad\": \"cad_really\",\n",
    "                \"scz\": \"scz\",\n",
    "                \"ad\": \"alz\",\n",
    "                \"ra\": \"ra\"}\n",
    "\n",
    "    mendelians = preprocess_labels(\"./extensions/{}_only_genes.tsv\".format(trait2name[trait]))\n",
    "\n",
    "    hsps= pd.read_csv(\"./hsps/{}.txt\".format(trait), header=None, index_col=None).iloc[:, 0].tolist()\n",
    "\n",
    "    with open(\"/mnt/storage/speos/results/{}_film_nohetioouter_results.json\".format(trait2name[trait]), \"r\") as file:\n",
    "        candidate2cs = json.load(file)[0]\n",
    "\n",
    "    coregenes = [key for key, value in candidate2cs.items() if value == 11]\n",
    "\n",
    "    other_coregenes = [key for key, value in candidate2cs.items() if value != 11]\n",
    "\n",
    "    allcore = set()\n",
    "    allcore.update(set(coregenes))\n",
    "    allcore.update(set(mendelians))\n",
    "    allcore = allcore.intersection(set(background))\n",
    "\n",
    "    noncore = set(background).difference(allcore).difference(other_coregenes)\n",
    "\n",
    "    return allcore, other_coregenes, hsps, noncore"
   ]
  },
  {
   "cell_type": "code",
   "execution_count": null,
   "metadata": {},
   "outputs": [],
   "source": [
    "\n",
    "trait= \"uc\"\n",
    "\n",
    "config = Config()\n",
    "config.parse_yaml(\"/home/ubuntu/speos/config_{}_only_nohetio_film_newstorage.yaml\".format(trait))\n",
    "prepro = InputHandler(config).get_preprocessor()\n",
    "prepro.build_graph(adjacency=False)"
   ]
  },
  {
   "cell_type": "code",
   "execution_count": null,
   "metadata": {},
   "outputs": [],
   "source": [
    "allcore, other_coregenes, hsps,  noncore = get_coregenes(trait, prepro.id2hgnc.values())\n",
    "mendelians = preprocess_labels(\"./extensions/{}_only_genes.tsv\".format(trait))"
   ]
  },
  {
   "cell_type": "code",
   "execution_count": null,
   "metadata": {},
   "outputs": [],
   "source": [
    "descr = pd.read_csv(\"/mnt/storage/cage/hg19.cage_peak_phase1and2combined_ann.txt\", header=0, skiprows=7, sep=\"\\t\")[\"short_description\"]"
   ]
  },
  {
   "cell_type": "code",
   "execution_count": null,
   "metadata": {},
   "outputs": [],
   "source": [
    "split = [values for _descr in descr for values in _descr.split(\",\")]\n",
    "split = [values.split(\"@\")[1] for values in split if \"@\" in values]\n",
    "split = [values for values in split if \"chr\" not in values]"
   ]
  },
  {
   "cell_type": "code",
   "execution_count": null,
   "metadata": {},
   "outputs": [],
   "source": [
    "from collections import Counter\n",
    "\n",
    "counter = Counter({hgnc: 0 for hgnc in prepro.id2hgnc.values()})\n",
    "counter.update(split)\n",
    "counter"
   ]
  },
  {
   "cell_type": "code",
   "execution_count": null,
   "metadata": {},
   "outputs": [],
   "source": [
    "coregene_counts = [counter[gene] for gene in allcore]\n",
    "mendelian_counts = [counter[gene] for gene in mendelians]\n",
    "peripheral_counts = [counter[gene] for gene in noncore]\n",
    "hsp_counts = [counter[gene] for gene in hsps]"
   ]
  },
  {
   "cell_type": "code",
   "execution_count": null,
   "metadata": {},
   "outputs": [],
   "source": [
    "len(peripheral_counts)"
   ]
  },
  {
   "cell_type": "code",
   "execution_count": null,
   "metadata": {},
   "outputs": [],
   "source": [
    "from scipy.stats import mannwhitneyu\n",
    "\n",
    "mannwhitneyu(coregene_counts, peripheral_counts)"
   ]
  },
  {
   "cell_type": "code",
   "execution_count": null,
   "metadata": {},
   "outputs": [],
   "source": [
    "mannwhitneyu(coregene_counts, hsp_counts)"
   ]
  },
  {
   "cell_type": "code",
   "execution_count": null,
   "metadata": {},
   "outputs": [],
   "source": [
    "mannwhitneyu(peripheral_counts, hsp_counts)"
   ]
  },
  {
   "cell_type": "code",
   "execution_count": null,
   "metadata": {},
   "outputs": [],
   "source": [
    "from seaborn import boxplot\n",
    "\n",
    "df = pd.DataFrame(data= {\"TSS Counts\": coregene_counts + mendelian_counts + hsp_counts + peripheral_counts,\n",
    "                         \"Group\": [\"Core Gene\"] * len(coregene_counts) + [\"Mendelian\"] *len(mendelian_counts)  + [\"HSP\"] * len(hsp_counts)+ [\"Peripheral\"] * len(peripheral_counts)})\n",
    "\n",
    "boxplot(data=df, x=\"Group\", y=\"TSS Counts\")"
   ]
  },
  {
   "cell_type": "code",
   "execution_count": null,
   "metadata": {},
   "outputs": [],
   "source": [
    "\n",
    "counter = Counter()\n",
    "counter.update(split)\n",
    "\n",
    "coregene_counts = [counter[gene] for gene in allcore]\n",
    "peripheral_counts = [counter[gene] for gene in noncore]\n",
    "hsp_counts = [counter[gene] for gene in hsps]\n",
    "\n",
    "print(mannwhitneyu(coregene_counts, peripheral_counts))\n",
    "print(mannwhitneyu(coregene_counts, hsp_counts))\n",
    "print(mannwhitneyu(peripheral_counts, hsp_counts))\n",
    "\n",
    "df = pd.DataFrame(data= {\"TSS Counts\": coregene_counts + hsp_counts + peripheral_counts,\n",
    "                         \"Group\": [\"Core Gene\"] * len(coregene_counts)  + [\"HSP\"] * len(hsp_counts)+ [\"Peripheral\"] * len(peripheral_counts)})\n",
    "\n",
    "boxplot(data=df, x=\"Group\", y=\"TSS Counts\")"
   ]
  },
  {
   "cell_type": "code",
   "execution_count": null,
   "metadata": {},
   "outputs": [],
   "source": [
    "gwas = pd.read_csv(\"/home/ubuntu/speos/data/gwas/{}.genes.out\".format(trait.upper()), sep=\" \", header=0, usecols=[\"GENE\", \"ZSTAT\"])"
   ]
  },
  {
   "cell_type": "code",
   "execution_count": null,
   "metadata": {},
   "outputs": [],
   "source": [
    "hgnc2gwas = {prepro.id2hgnc[prepro.entrez2id[gene]]: zstat for gene, zstat in zip(gwas[\"GENE\"], gwas[\"ZSTAT\"]) if gene in prepro.entrez2id.keys()}\n"
   ]
  },
  {
   "cell_type": "code",
   "execution_count": null,
   "metadata": {},
   "outputs": [],
   "source": [
    "len(hgnc2gwas)"
   ]
  },
  {
   "cell_type": "code",
   "execution_count": null,
   "metadata": {},
   "outputs": [],
   "source": [
    "tss = []\n",
    "zscore = []\n",
    "for hgnc in hgnc2gwas:\n",
    "    tss.append(counter[hgnc])\n",
    "    zscore.append(hgnc2gwas[hgnc])"
   ]
  },
  {
   "cell_type": "code",
   "execution_count": null,
   "metadata": {},
   "outputs": [],
   "source": [
    "from scipy.stats import spearmanr\n",
    "\n",
    "spearmanr(tss, zscore)"
   ]
  },
  {
   "cell_type": "code",
   "execution_count": null,
   "metadata": {},
   "outputs": [],
   "source": [
    "import matplotlib.pyplot as plt\n",
    "\n",
    "plt.scatter(tss, zscore)"
   ]
  },
  {
   "cell_type": "code",
   "execution_count": null,
   "metadata": {},
   "outputs": [],
   "source": []
  },
  {
   "cell_type": "code",
   "execution_count": null,
   "metadata": {},
   "outputs": [],
   "source": []
  },
  {
   "cell_type": "code",
   "execution_count": null,
   "metadata": {},
   "outputs": [],
   "source": [
    "cutoff = 5\n",
    "core_but_strong_gwas = [hgnc for hgnc in allcore if hgnc2gwas[hgnc] > cutoff]\n",
    "core_but_weak_gwas = [hgnc for hgnc in allcore if hgnc2gwas[hgnc] < cutoff]\n",
    "peripheral_but_weak_gwas = [hgnc for hgnc in noncore if hgnc2gwas[hgnc] < cutoff]\n",
    "peripheral_but_strong_gwas = [hgnc for hgnc in noncore if hgnc2gwas[hgnc] > cutoff]"
   ]
  },
  {
   "cell_type": "code",
   "execution_count": null,
   "metadata": {},
   "outputs": [],
   "source": [
    "assert(len(core_but_weak_gwas) + len(core_but_strong_gwas) == len(allcore))\n",
    "len(core_but_strong_gwas)"
   ]
  },
  {
   "cell_type": "code",
   "execution_count": null,
   "metadata": {},
   "outputs": [],
   "source": [
    "len(allcore)"
   ]
  },
  {
   "cell_type": "code",
   "execution_count": null,
   "metadata": {},
   "outputs": [],
   "source": [
    "\n",
    "core_but_weak_gwas_counts = [counter[gene] for gene in core_but_weak_gwas]\n",
    "core_but_strong_gwas_counts = [counter[gene] for gene in core_but_strong_gwas]\n",
    "other_core_counts = [counter[gene] for gene in other_coregenes]\n",
    "peripheral_counts = [counter[gene] for gene in noncore]\n",
    "hsp_counts = [counter[gene] for gene in hsps]\n",
    "\n",
    "print(mannwhitneyu(core_but_weak_gwas_counts, core_but_strong_gwas_counts))\n",
    "print(mannwhitneyu(core_but_weak_gwas_counts, peripheral_counts))\n",
    "print(mannwhitneyu(core_but_strong_gwas_counts, peripheral_counts))\n",
    "print(mannwhitneyu(core_but_weak_gwas_counts, hsp_counts))\n",
    "print(mannwhitneyu(peripheral_counts, hsp_counts))\n",
    "\n",
    "df = pd.DataFrame(data= {\"TSS Counts\": core_but_strong_gwas_counts + core_but_weak_gwas_counts + other_core_counts + hsp_counts + peripheral_counts,\n",
    "                         \"Group\": [\"Core Genes\\nZ-SCore > 2\\nn={}\".format(len(core_but_strong_gwas_counts))] * len(core_but_strong_gwas_counts) \n",
    "                                + [\"Core Genes\\nZ-SCore < 2\\nn={}\".format(len(core_but_weak_gwas_counts))] * len(core_but_weak_gwas_counts)  \n",
    "                                + [\"Ambivalent\\nn={}\".format(len(other_core_counts))] * len(other_core_counts)\n",
    "                                + [\"HSP\\nn={}\".format(len(hsp_counts))] * len(hsp_counts)\n",
    "                                + [\"Peripheral\\nn={}\".format(len(peripheral_counts))] * len(peripheral_counts)})\n",
    "\n",
    "boxplot(data=df, x=\"Group\", y=\"TSS Counts\")"
   ]
  },
  {
   "cell_type": "code",
   "execution_count": null,
   "metadata": {},
   "outputs": [],
   "source": [
    "cutoff = 5\n",
    "\n",
    "core_but_strong_gwas = [hgnc for hgnc in allcore if hgnc2gwas[hgnc] > cutoff]\n",
    "core_but_weak_gwas = [hgnc for hgnc in allcore if hgnc2gwas[hgnc] < cutoff]\n",
    "peripheral_but_weak_gwas = [hgnc for hgnc in noncore if hgnc2gwas[hgnc] < cutoff]\n",
    "peripheral_but_strong_gwas = [hgnc for hgnc in noncore if hgnc2gwas[hgnc] > cutoff]\n",
    "\n",
    "ambi_but_weak_gwas_counts = [counter[gene] for gene in other_coregenes if hgnc2gwas[gene]  < cutoff]\n",
    "ambi_but_strong_gwas_counts = [counter[gene] for gene in other_coregenes if hgnc2gwas[gene] > cutoff]\n",
    "\n",
    "core_but_weak_gwas_counts = [counter[gene] for gene in core_but_weak_gwas]\n",
    "core_but_strong_gwas_counts = [counter[gene] for gene in core_but_strong_gwas]\n",
    "peripheral_weak_gwas_counts = [counter[gene] for gene in peripheral_but_weak_gwas]\n",
    "peripheral_strong_gwas_counts = [counter[gene] for gene in peripheral_but_strong_gwas]\n",
    "\n",
    "print(mannwhitneyu(core_but_weak_gwas_counts, core_but_strong_gwas_counts))\n",
    "print(mannwhitneyu(ambi_but_weak_gwas_counts, ambi_but_strong_gwas_counts))\n",
    "print(mannwhitneyu(peripheral_weak_gwas_counts, peripheral_strong_gwas_counts))\n",
    "\n",
    "print(mannwhitneyu(core_but_weak_gwas_counts + core_but_strong_gwas_counts, peripheral_strong_gwas_counts + peripheral_weak_gwas_counts))\n",
    "print(mannwhitneyu(core_but_weak_gwas_counts + core_but_strong_gwas_counts, ambi_but_weak_gwas_counts + ambi_but_strong_gwas_counts))\n",
    "print(mannwhitneyu(peripheral_weak_gwas_counts + peripheral_strong_gwas_counts, ambi_but_weak_gwas_counts + ambi_but_strong_gwas_counts))\n",
    "\n",
    "\n",
    "df = pd.DataFrame(data= {\"TSS Counts\": core_but_strong_gwas_counts + core_but_weak_gwas_counts +ambi_but_strong_gwas_counts + ambi_but_weak_gwas_counts + peripheral_weak_gwas_counts + peripheral_strong_gwas_counts,\n",
    "                         \"Group\": [\"Core Genes\\nZ-Score > {}\\nn={}\".format(cutoff, len(core_but_strong_gwas_counts))] * len(core_but_strong_gwas_counts) \n",
    "                                + [\"Core Genes\\nZ-Score < {}\\nn={}\".format(cutoff, len(core_but_weak_gwas_counts))] * len(core_but_weak_gwas_counts)  \n",
    "                                + [\"Ambiv. Genes\\nZ-Score > {}\\nn={}\".format(cutoff, len(ambi_but_strong_gwas_counts))] * len(ambi_but_strong_gwas_counts) \n",
    "                                + [\"Ambiv. Genes\\nZ-Score < {}\\nn={}\".format(cutoff, len(ambi_but_weak_gwas_counts))] * len(ambi_but_weak_gwas_counts)  \n",
    "                                + [\"Peripheral\\nZ-Score > {}\\nn={}\".format(cutoff, len(peripheral_strong_gwas_counts))] * len(peripheral_strong_gwas_counts)  \n",
    "                                + [\"Peripheral\\nZ-Score < {}\\nn={}\".format(cutoff, len(peripheral_weak_gwas_counts))] * len(peripheral_weak_gwas_counts)})\n",
    "\n",
    "boxplot(data=df, x=\"Group\", y=\"TSS Counts\", showfliers=False)"
   ]
  },
  {
   "cell_type": "code",
   "execution_count": null,
   "metadata": {},
   "outputs": [],
   "source": [
    "import seaborn as sns\n",
    "import numpy as np\n",
    "from statsmodels.stats.multitest import fdrcorrection\n",
    "from speos.visualization.settings import *\n",
    "import matplotlib.pyplot as plt\n",
    "\n",
    "def pval_to_string(pval):\n",
    "    if pval < 1e-3:\n",
    "        return \"***\"\n",
    "    elif pval < 1e-2:\n",
    "        return \"***\"\n",
    "    elif pval < 5e-2:\n",
    "        return \"***\"\n",
    "    else:\n",
    "        return \"n.s.\"\n",
    "\n",
    "fig, ax = plt.subplots(figsize=(full_width*0.33*cm, 6*cm))\n",
    "\n",
    "\n",
    "bp = ax.boxplot(x=(peripheral_weak_gwas_counts, peripheral_strong_gwas_counts, ambi_but_weak_gwas_counts, ambi_but_strong_gwas_counts, core_but_weak_gwas_counts, core_but_strong_gwas_counts), \n",
    "              positions=range(6), widths=[0.1, 0.1, 0.1, 0.1, 0.1, 0.1], showfliers=False, zorder=5, patch_artist=True)\n",
    "\n",
    "for feature, color in zip(['boxes', \"medians\", \"whiskers\", \"caps\"], [\"darkgray\", \"black\", \"darkgray\", \"darkgray\"]):\n",
    "    plt.setp(bp[feature], color=color)\n",
    "\n",
    "data = pd.DataFrame({\"TSS Counts per Gene\": core_but_strong_gwas_counts + core_but_weak_gwas_counts +ambi_but_strong_gwas_counts + ambi_but_weak_gwas_counts + peripheral_weak_gwas_counts + peripheral_strong_gwas_counts,\n",
    "                     \"Groups\": [\"Core Genes\\n> {}\\n{}\".format(cutoff, len(core_but_strong_gwas_counts))] * len(core_but_strong_gwas_counts) \n",
    "                                    + [\"Core Genes\\n< {}\\n{}\".format(cutoff, len(core_but_weak_gwas_counts))] * len(core_but_weak_gwas_counts)  \n",
    "                                    + [\"Ambiv. Genes\\n> {}\\n{}\".format(cutoff, len(ambi_but_strong_gwas_counts))] * len(ambi_but_strong_gwas_counts) \n",
    "                                    + [\"Ambiv. Genes\\n< {}\\n{}\".format(cutoff, len(ambi_but_weak_gwas_counts))] * len(ambi_but_weak_gwas_counts)  \n",
    "                                    + [\"Peripheral\\n> {}\\n{}\".format(cutoff, len(peripheral_strong_gwas_counts))] * len(peripheral_strong_gwas_counts)  \n",
    "                                    + [\"Peripheral\\n< {}\\n{}\".format(cutoff, len(peripheral_weak_gwas_counts))] * len(peripheral_weak_gwas_counts)})\n",
    "\n",
    "data = data[data[\"TSS Counts per Gene\"] < np.quantile(data[\"TSS Counts per Gene\"], 0.995)]\n",
    "\n",
    "pvals = []\n",
    "pvals.append(mannwhitneyu(peripheral_weak_gwas_counts, peripheral_strong_gwas_counts)[1])\n",
    "pvals.append(mannwhitneyu(ambi_but_weak_gwas_counts, ambi_but_strong_gwas_counts)[1])\n",
    "pvals.append(mannwhitneyu(core_but_weak_gwas_counts, core_but_strong_gwas_counts)[1])\n",
    "\n",
    "\n",
    "\n",
    "\n",
    "\n",
    "pvals.append(mannwhitneyu(peripheral_weak_gwas_counts + peripheral_strong_gwas_counts, ambi_but_weak_gwas_counts + ambi_but_strong_gwas_counts)[1])\n",
    "pvals.append(mannwhitneyu(core_but_weak_gwas_counts + core_but_strong_gwas_counts, ambi_but_weak_gwas_counts + ambi_but_strong_gwas_counts)[1])\n",
    "pvals.append(mannwhitneyu(core_but_weak_gwas_counts + core_but_strong_gwas_counts, peripheral_strong_gwas_counts + peripheral_weak_gwas_counts)[1])\n",
    "\n",
    "pvals = fdrcorrection(pvals)[1]\n",
    "\n",
    "groups = [\"Peripheral\\n< {}\\n{}\".format(cutoff, len(peripheral_weak_gwas_counts)),\n",
    "                             \"Peripheral\\n> {}\\n{}\".format(cutoff, len(peripheral_strong_gwas_counts)),\n",
    "                             \"Ambiv. Genes\\n< {}\\n{}\".format(cutoff, len(ambi_but_weak_gwas_counts)),\n",
    "                             \"Ambiv. Genes\\n> {}\\n{}\".format(cutoff, len(ambi_but_strong_gwas_counts)),\n",
    "                             \"Core Genes\\n< {}\\n{}\".format(cutoff, len(core_but_weak_gwas_counts)),\n",
    "                             \"Core Genes\\n> {}\\n{}\".format(cutoff, len(core_but_strong_gwas_counts))\n",
    "                             ]\n",
    "\n",
    "ax = sns.violinplot(data=data,\n",
    "                    x=\"Groups\",\n",
    "                    y=\"TSS Counts per Gene\",\n",
    "                    order = groups,\n",
    "                    palette={\"Core Genes\\n> {}\\n{}\".format(cutoff, len(core_but_strong_gwas_counts)): \"#01016f\",\n",
    "                                 \"Core Genes\\n< {}\\n{}\".format(cutoff, len(core_but_weak_gwas_counts)):  \"#01016f\", \n",
    "                                 \"Ambiv. Genes\\n> {}\\n{}\".format(cutoff, len(ambi_but_strong_gwas_counts)): \"lightblue\",\n",
    "                                 \"Ambiv. Genes\\n< {}\\n{}\".format(cutoff, len(ambi_but_weak_gwas_counts)): \"lightblue\",\n",
    "                                 \"Peripheral\\n> {}\\n{}\".format(cutoff, len(peripheral_strong_gwas_counts)):  \"#5a5a5a\",\n",
    "                                 \"Peripheral\\n< {}\\n{}\".format(cutoff, len(peripheral_weak_gwas_counts)):  \"#5a5a5a\"},\n",
    "\n",
    "                    inner=None,\n",
    "                    cut=0,\n",
    "                    linewidth=0.5,\n",
    "                    ax=ax)\n",
    "\n",
    "maxs = data.groupby(\"Groups\").max()\n",
    "\n",
    "for i, group in enumerate(groups):\n",
    "    ax.vlines(i, maxs.loc[group].item() + 3, 35, color=\"black\", linewidth=0.5)\n",
    "\n",
    "ax.hlines((35, 35, 35), (0, 2, 4), (1, 3, 5), color=\"black\", linewidth=0.5)\n",
    "\n",
    "for i, pval in enumerate(pvals[:3]):\n",
    "    ax.text(x=(i * 2)+0.5, y=34, s=pval_to_string(pval), va=\"top\", ha=\"center\", fontsize=6)\n",
    "\n",
    "ax.vlines((0.6, 2.4, 2.6, 4.4), (35, 35, 35, 35), (40, 40, 40, 40), color=\"black\", linewidth=0.5)\n",
    "ax.vlines((0.4, 4.6), (35, 35), (45, 45, ), color=\"black\", linewidth=0.5)\n",
    "\n",
    "ax.hlines((40, 40, 45), (0.6, 2.6, 0.4), (2.4, 4.4, 4.6), color=\"black\", linewidth=0.5)\n",
    "\n",
    "for i, pval in enumerate(pvals[3:5]):\n",
    "    ax.text(x=(i * 2)+1.5, y=40.5, s=pval_to_string(pval), va=\"bottom\", ha=\"center\", fontsize=6)\n",
    "\n",
    "ax.text(x=2.5, y=45.5, s=pval_to_string(pvals[-1]), va=\"bottom\", ha=\"center\", fontsize=6)\n",
    "ax.set_ylim(-2,50)\n",
    "ax.set_ylabel(\"TSS Counts per Gene\", fontsize=8)\n",
    "ax.set_xlabel(\"\", fontsize=8)\n",
    "plt.savefig(\"tss_counts.svg\", bbox_inches=\"tight\")\n",
    "\n"
   ]
  },
  {
   "cell_type": "code",
   "execution_count": null,
   "metadata": {},
   "outputs": [],
   "source": [
    "pvals"
   ]
  },
  {
   "cell_type": "code",
   "execution_count": null,
   "metadata": {},
   "outputs": [],
   "source": [
    "#taken from https://www.ncbi.nlm.nih.gov/pmc/articles/PMC9201719/\n",
    "\n",
    "degs = set(pd.read_csv(\"deg_uc.tsv\", sep=\" \", header=None).transpose()[0].tolist())"
   ]
  },
  {
   "cell_type": "code",
   "execution_count": null,
   "metadata": {},
   "outputs": [],
   "source": [
    "from scipy.stats import fisher_exact\n",
    "\n",
    "all_genes = set()\n",
    "all_genes.update(allcore)\n",
    "all_genes.update(other_coregenes)\n",
    "all_genes.update(noncore)\n",
    "\n",
    "for group in [set(mendelians), set(allcore).difference(mendelians), set(other_coregenes), set(noncore)]:\n",
    "    a = len(group.intersection(degs))\n",
    "    b = len(all_genes.difference(group).intersection(degs))\n",
    "    c = len(group.difference(degs))\n",
    "    d = len(all_genes.difference(group).difference(degs))\n",
    "    array = [[a, b], [c, d]]\n",
    "    print(fisher_exact(array))"
   ]
  },
  {
   "cell_type": "code",
   "execution_count": null,
   "metadata": {},
   "outputs": [],
   "source": [
    "import scipy.stats as stats\n",
    "\n",
    "\n",
    "with open(\"/mnt/storage/speos/results/{}_film_nohetioouter_results.json\".format(\"uc\"), \"r\") as file:\n",
    "        candidate2cs = json.load(file)[0]\n",
    "\n",
    "pvals = []\n",
    "zvals = []\n",
    "odds_coregenes = []\n",
    "\n",
    "\n",
    "for cutoff in range(11, 1, -1):\n",
    "    coregenes = [key for key, value in candidate2cs.items() if value >= cutoff]\n",
    "    other_coregenes = [key for key, value in candidate2cs.items() if value < cutoff]\n",
    "\n",
    "    arrays = []\n",
    "    for group in [set(coregenes).difference(mendelians), set(other_coregenes)]:\n",
    "        a = len(group.intersection(degs))\n",
    "        b = len(all_genes.difference(group).intersection(degs))\n",
    "        c = len(group.difference(degs))\n",
    "        d = len(all_genes.difference(group).difference(degs))\n",
    "        arrays.append(np.asarray([[a, b], [c, d]]))\n",
    "\n",
    "    odds_typical = fisher_exact(arrays[0])[0]\n",
    "    odds_atypical = fisher_exact(arrays[1])[0]\n",
    "\n",
    "    odds_coregenes.append(odds_typical)\n",
    "\n",
    "    log_odds_typical = np.log(odds_typical)\n",
    "    log_odds_atypical = np.log(odds_atypical)\n",
    "    delta = log_odds_typical - log_odds_atypical\n",
    "\n",
    "\n",
    "    var_typical = np.sum([1 / value for value in arrays[0].flatten()])\n",
    "    var_atypical = np.sum([1 / value for value in arrays[1].flatten()])\n",
    "\n",
    "    se_delta = np.sqrt(var_typical + var_atypical)\n",
    "    zval = delta / se_delta\n",
    "    zvals.append(zval)\n",
    "    pval = stats.norm.sf(np.abs(zval)) * 2\n",
    "    pvals.append(pval)"
   ]
  },
  {
   "cell_type": "code",
   "execution_count": null,
   "metadata": {},
   "outputs": [],
   "source": [
    "pvals"
   ]
  },
  {
   "cell_type": "code",
   "execution_count": null,
   "metadata": {},
   "outputs": [],
   "source": [
    "zvals"
   ]
  },
  {
   "cell_type": "code",
   "execution_count": null,
   "metadata": {},
   "outputs": [],
   "source": [
    "odds_coregenes"
   ]
  },
  {
   "cell_type": "code",
   "execution_count": null,
   "metadata": {},
   "outputs": [],
   "source": [
    "fdrcorrection(pvals)"
   ]
  },
  {
   "cell_type": "code",
   "execution_count": null,
   "metadata": {},
   "outputs": [],
   "source": [
    "arrays = []\n",
    "for group in [set(allcore).difference(mendelians), set(mendelians)]:\n",
    "    a = len(group.intersection(degs))\n",
    "    b = len(all_genes.difference(group).intersection(degs))\n",
    "    c = len(group.difference(degs))\n",
    "    d = len(all_genes.difference(group).difference(degs))\n",
    "    arrays.append(np.asarray([[a, b], [c, d]]))\n",
    "\n",
    "odds_typical = fisher_exact(arrays[0])[0]\n",
    "odds_atypical = fisher_exact(arrays[1])[0]\n",
    "\n",
    "odds_coregenes.append(odds_typical)\n",
    "\n",
    "log_odds_typical = np.log(odds_typical)\n",
    "log_odds_atypical = np.log(odds_atypical)\n",
    "delta = log_odds_typical - log_odds_atypical\n",
    "\n",
    "\n",
    "var_typical = np.sum([1 / value for value in arrays[0].flatten()])\n",
    "var_atypical = np.sum([1 / value for value in arrays[1].flatten()])\n",
    "\n",
    "se_delta = np.sqrt(var_typical + var_atypical)\n",
    "zval = delta / se_delta\n",
    "zvals.append(zval)\n",
    "pval = stats.norm.sf(np.abs(zval)) * 2\n",
    "pval"
   ]
  },
  {
   "cell_type": "code",
   "execution_count": null,
   "metadata": {},
   "outputs": [],
   "source": [
    "coregenes = [key for key, value in candidate2cs.items() if value >= 11]\n",
    "other_coregenes = [key for key, value in candidate2cs.items() if value < 11]\n",
    "\n",
    "arrays = []\n",
    "for group in [set(other_coregenes), set(mendelians).union(coregenes)]:\n",
    "    a = len(group.intersection(degs))\n",
    "    b = len(all_genes.difference(group).intersection(degs))\n",
    "    c = len(group.difference(degs))\n",
    "    d = len(all_genes.difference(group).difference(degs))\n",
    "    arrays.append(np.asarray([[a, b], [c, d]]))\n",
    "\n",
    "odds_typical = fisher_exact(arrays[0])[0]\n",
    "odds_atypical = fisher_exact(arrays[1])[0]\n",
    "\n",
    "odds_coregenes.append(odds_typical)\n",
    "\n",
    "log_odds_typical = np.log(odds_typical)\n",
    "log_odds_atypical = np.log(odds_atypical)\n",
    "delta = log_odds_typical - log_odds_atypical\n",
    "\n",
    "\n",
    "var_typical = np.sum([1 / value for value in arrays[0].flatten()])\n",
    "var_atypical = np.sum([1 / value for value in arrays[1].flatten()])\n",
    "\n",
    "se_delta = np.sqrt(var_typical + var_atypical)\n",
    "zval = delta / se_delta\n",
    "zvals.append(zval)\n",
    "pval = stats.norm.sf(np.abs(zval)) * 2\n",
    "pval"
   ]
  },
  {
   "cell_type": "code",
   "execution_count": null,
   "metadata": {},
   "outputs": [],
   "source": []
  }
 ],
 "metadata": {
  "language_info": {
   "name": "python"
  }
 },
 "nbformat": 4,
 "nbformat_minor": 2
}
